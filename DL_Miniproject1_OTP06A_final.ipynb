{
 "cells": [
  {
   "cell_type": "markdown",
   "metadata": {
    "id": "yMdJIurTPF-c"
   },
   "source": [
    "# Importing the required packages"
   ]
  },
  {
   "cell_type": "code",
   "execution_count": 1,
   "metadata": {
    "colab": {
     "base_uri": "https://localhost:8080/"
    },
    "executionInfo": {
     "elapsed": 8962,
     "status": "ok",
     "timestamp": 1681763593645,
     "user": {
      "displayName": "Ádám Váradi",
      "userId": "05519788549826843250"
     },
     "user_tz": -120
    },
    "id": "S-KGfRuDPGje",
    "outputId": "f482d77c-2d8e-4403-b383-ce5feed6299d"
   },
   "outputs": [
    {
     "name": "stdout",
     "output_type": "stream",
     "text": [
      "Collecting torchmetrics\n",
      "  Downloading torchmetrics-0.11.4-py3-none-any.whl (519 kB)\n",
      "\u001b[2K     \u001b[90m━━━━━━━━━━━━━━━━━━━━━━━━━━━━━━━━━━━━━━\u001b[0m \u001b[32m519.2/519.2 kB\u001b[0m \u001b[31m22.1 MB/s\u001b[0m eta \u001b[36m0:00:00\u001b[0m\n",
      "\u001b[?25hRequirement already satisfied: numpy>=1.17.2 in /opt/conda/lib/python3.7/site-packages (from torchmetrics) (1.21.6)\n",
      "Requirement already satisfied: torch>=1.8.1 in /opt/conda/lib/python3.7/site-packages (from torchmetrics) (1.13.1)\n",
      "Requirement already satisfied: packaging in /opt/conda/lib/python3.7/site-packages (from torchmetrics) (23.1)\n",
      "Requirement already satisfied: typing-extensions in /opt/conda/lib/python3.7/site-packages (from torchmetrics) (4.5.0)\n",
      "Requirement already satisfied: nvidia-cuda-runtime-cu11==11.7.99 in /opt/conda/lib/python3.7/site-packages (from torch>=1.8.1->torchmetrics) (11.7.99)\n",
      "Requirement already satisfied: nvidia-cudnn-cu11==8.5.0.96 in /opt/conda/lib/python3.7/site-packages (from torch>=1.8.1->torchmetrics) (8.5.0.96)\n",
      "Requirement already satisfied: nvidia-cublas-cu11==11.10.3.66 in /opt/conda/lib/python3.7/site-packages (from torch>=1.8.1->torchmetrics) (11.10.3.66)\n",
      "Requirement already satisfied: nvidia-cuda-nvrtc-cu11==11.7.99 in /opt/conda/lib/python3.7/site-packages (from torch>=1.8.1->torchmetrics) (11.7.99)\n",
      "Requirement already satisfied: setuptools in /opt/conda/lib/python3.7/site-packages (from nvidia-cublas-cu11==11.10.3.66->torch>=1.8.1->torchmetrics) (67.7.2)\n",
      "Requirement already satisfied: wheel in /opt/conda/lib/python3.7/site-packages (from nvidia-cublas-cu11==11.10.3.66->torch>=1.8.1->torchmetrics) (0.40.0)\n",
      "Installing collected packages: torchmetrics\n",
      "Successfully installed torchmetrics-0.11.4\n"
     ]
    }
   ],
   "source": [
    "! pip install torchmetrics"
   ]
  },
  {
   "cell_type": "code",
   "execution_count": 2,
   "metadata": {},
   "outputs": [
    {
     "name": "stdout",
     "output_type": "stream",
     "text": [
      "Collecting torchsummary\n",
      "  Downloading torchsummary-1.5.1-py3-none-any.whl (2.8 kB)\n",
      "Installing collected packages: torchsummary\n",
      "Successfully installed torchsummary-1.5.1\n"
     ]
    }
   ],
   "source": [
    "!pip install torchsummary"
   ]
  },
  {
   "cell_type": "code",
   "execution_count": 3,
   "metadata": {
    "executionInfo": {
     "elapsed": 6649,
     "status": "ok",
     "timestamp": 1681763600287,
     "user": {
      "displayName": "Ádám Váradi",
      "userId": "05519788549826843250"
     },
     "user_tz": -120
    },
    "id": "pMlFGMhnPROp"
   },
   "outputs": [],
   "source": [
    "import torch\n",
    "from torch import nn, optim\n",
    "from torchvision import datasets, transforms\n",
    "import torchmetrics\n",
    "from torchsummary import summary\n",
    "import numpy as np"
   ]
  },
  {
   "cell_type": "code",
   "execution_count": 4,
   "metadata": {
    "colab": {
     "base_uri": "https://localhost:8080/"
    },
    "executionInfo": {
     "elapsed": 8,
     "status": "ok",
     "timestamp": 1681763600288,
     "user": {
      "displayName": "Ádám Váradi",
      "userId": "05519788549826843250"
     },
     "user_tz": -120
    },
    "id": "6z1tzMOZPWAV",
    "outputId": "446fe8a6-64f6-4c4f-d430-1034a0d50844"
   },
   "outputs": [
    {
     "data": {
      "text/plain": [
       "True"
      ]
     },
     "execution_count": 4,
     "metadata": {},
     "output_type": "execute_result"
    }
   ],
   "source": [
    "torch.cuda.is_available()"
   ]
  },
  {
   "cell_type": "markdown",
   "metadata": {
    "id": "zb4ErZTHz-l9"
   },
   "source": [
    "# Importing the CIFAR-10 dataset"
   ]
  },
  {
   "cell_type": "code",
   "execution_count": 5,
   "metadata": {
    "colab": {
     "base_uri": "https://localhost:8080/"
    },
    "executionInfo": {
     "elapsed": 8152,
     "status": "ok",
     "timestamp": 1681763608435,
     "user": {
      "displayName": "Ádám Váradi",
      "userId": "05519788549826843250"
     },
     "user_tz": -120
    },
    "id": "LPCTmQDO0A7a",
    "outputId": "afd95195-b04c-47e6-efe3-8a0d3a98ea29"
   },
   "outputs": [
    {
     "name": "stdout",
     "output_type": "stream",
     "text": [
      "Downloading https://www.cs.toronto.edu/~kriz/cifar-10-python.tar.gz to ./data/cifar-10-python.tar.gz\n"
     ]
    },
    {
     "data": {
      "application/vnd.jupyter.widget-view+json": {
       "model_id": "558c7a810e2441caad26b62463fe488e",
       "version_major": 2,
       "version_minor": 0
      },
      "text/plain": [
       "  0%|          | 0/170498071 [00:00<?, ?it/s]"
      ]
     },
     "metadata": {},
     "output_type": "display_data"
    },
    {
     "name": "stdout",
     "output_type": "stream",
     "text": [
      "Extracting ./data/cifar-10-python.tar.gz to ./data\n",
      "Files already downloaded and verified\n"
     ]
    }
   ],
   "source": [
    "import torchvision\n",
    "\n",
    "trsf_to_tensor = torchvision.transforms.ToTensor()\n",
    "\n",
    "train_data = torchvision.datasets.CIFAR10(root = './data', train = True, download = True, transform = trsf_to_tensor)\n",
    "val_data = torchvision.datasets.CIFAR10(root = './data', train = False, download = True, transform = trsf_to_tensor)"
   ]
  },
  {
   "cell_type": "markdown",
   "metadata": {
    "id": "L_AvadjJ0Z6u"
   },
   "source": [
    "A short visualisation to make sure, that we imported the right dataset:"
   ]
  },
  {
   "cell_type": "code",
   "execution_count": 6,
   "metadata": {
    "colab": {
     "base_uri": "https://localhost:8080/",
     "height": 638
    },
    "executionInfo": {
     "elapsed": 2433,
     "status": "ok",
     "timestamp": 1681763610865,
     "user": {
      "displayName": "Ádám Váradi",
      "userId": "05519788549826843250"
     },
     "user_tz": -120
    },
    "id": "dyF7pSPp0S_G",
    "outputId": "44719f74-3a77-4c02-aa3c-a8c22b865a33"
   },
   "outputs": [
    {
     "name": "stdout",
     "output_type": "stream",
     "text": [
      "Number of classes: 10\n",
      "Image sizes: (32, 32, 3) \n",
      "\n"
     ]
    },
    {
     "data": {
      "image/png": "[encoded data removed]",
      "text/plain": [
       "<Figure size 1600x700 with 10 Axes>"
      ]
     },
     "metadata": {},
     "output_type": "display_data"
    }
   ],
   "source": [
    "# Visualization\n",
    "\n",
    "from matplotlib import pyplot as plt\n",
    "\n",
    "classes = train_data.classes\n",
    "print(f'Number of classes: {len(classes)}')\n",
    "print(f'Image sizes: {train_data.data[0].shape}', '\\n')\n",
    "\n",
    "fig, axes = plt.subplots(2, 5, figsize=(16, 7))\n",
    "for class_idx, class_name in enumerate(classes):\n",
    "    img_idx = train_data.targets.index(class_idx) # get first instance of the given class\n",
    "    img_arr = train_data.data[img_idx]\n",
    "    ax = axes[class_idx // 5, class_idx % 5]\n",
    "    ax.imshow(img_arr)\n",
    "    ax.tick_params(left = False, right = False, bottom = False, labelleft = False , labelbottom = False)\n",
    "    ax.set_title(class_name, y = -0.2)"
   ]
  },
  {
   "cell_type": "markdown",
   "metadata": {
    "id": "DOu6gJyWFJXx"
   },
   "source": [
    "Generating batches"
   ]
  },
  {
   "cell_type": "code",
   "execution_count": 7,
   "metadata": {
    "executionInfo": {
     "elapsed": 14,
     "status": "ok",
     "timestamp": 1681763610866,
     "user": {
      "displayName": "Ádám Váradi",
      "userId": "05519788549826843250"
     },
     "user_tz": -120
    },
    "id": "K94etLPHFBmd"
   },
   "outputs": [],
   "source": [
    "batch_size = 128\n",
    "train_loader = torch.utils.data.DataLoader(train_data, batch_size = batch_size, shuffle = True)\n",
    "val_loader = torch.utils.data.DataLoader(val_data, batch_size = batch_size, shuffle = False)"
   ]
  },
  {
   "cell_type": "markdown",
   "metadata": {
    "id": "QdVzPgEGTkRJ"
   },
   "source": [
    "# Function for training the model"
   ]
  },
  {
   "cell_type": "code",
   "execution_count": 8,
   "metadata": {
    "executionInfo": {
     "elapsed": 13,
     "status": "ok",
     "timestamp": 1681763610867,
     "user": {
      "displayName": "Ádám Váradi",
      "userId": "05519788549826843250"
     },
     "user_tz": -120
    },
    "id": "UPOcsbH1Tnfi"
   },
   "outputs": [],
   "source": [
    "def train(model, train_data, val_data, loss_fn, optimizer, num_classes = 10, num_epochs = 10):\n",
    "\n",
    "    batch_train_accuracies = []\n",
    "    epoch_train_accuracies = []\n",
    "    epoch_val_accuracies = []\n",
    "    batch_train_loss = []\n",
    "    batch_val_loss = []\n",
    "    epoch_train_loss = []\n",
    "    epoch_val_loss = []\n",
    "    \n",
    "    if num_classes == 2:\n",
    "      task = 'binary'\n",
    "    elif num_classes > 2:\n",
    "      task = 'multiclass'\n",
    "    else:\n",
    "      raise ValueError('num_classes needs to be an integer greater or equal to 2')\n",
    "\n",
    "    # Using bulit-in metrics features\n",
    "    train_accuracy_metric = torchmetrics.Accuracy(task = task, num_classes = num_classes)\n",
    "    val_accuracy_metric = torchmetrics.Accuracy(task = task, num_classes = num_classes)\n",
    "    \n",
    "    model = model.to('cuda')\n",
    "    softmax = nn.Softmax(dim = 1)\n",
    "    \n",
    "    # Training for num_epochs\n",
    "    for epoch in range(1, num_epochs + 1):\n",
    "        batch_train_loss = []\n",
    "        batch_val_loss = []\n",
    "        \n",
    "        model.train()\n",
    "\n",
    "        for x, y in train_data:\n",
    "            x, y = x.to('cuda'), y.to('cuda')\n",
    "            \n",
    "            optimizer.zero_grad()\n",
    "            y_hat = model(x)\n",
    "            loss = loss_fn(y_hat, y)\n",
    "            loss.backward()\n",
    "            optimizer.step()\n",
    "            \n",
    "            y_hat = softmax(y_hat).to('cpu')\n",
    "            \n",
    "            batch_acc = train_accuracy_metric(y_hat, y.to('cpu'))\n",
    "            batch_train_accuracies.append(batch_acc)\n",
    "            batch_train_loss.append(loss.item())\n",
    "            \n",
    "        epoch_train_acc = train_accuracy_metric.compute()\n",
    "        epoch_train_accuracies.append(epoch_train_acc)\n",
    "        epoch_train_loss.append(np.mean(batch_train_loss))\n",
    "    \n",
    "        model.eval()\n",
    "        for x, y in val_data:\n",
    "            x, y = x.to('cuda'), y.to('cuda')\n",
    "            y_hat = model(x)\n",
    "            loss_val = loss_fn(y_hat, y)\n",
    "            \n",
    "            y_hat = softmax(y_hat).to('cpu')\n",
    "            \n",
    "            val_accuracy_metric(y_hat, y.to('cpu'))\n",
    "            batch_val_loss.append(loss_val.item())\n",
    "        \n",
    "        val_acc = val_accuracy_metric.compute()\n",
    "        epoch_val_accuracies.append(val_acc)\n",
    "        epoch_val_loss.append(np.mean(batch_val_loss))\n",
    "\n",
    "        \n",
    "\n",
    "        print(f'Train accuracy at epoch {epoch}: ', epoch_train_acc.numpy())\n",
    "        print(f'Validation accuracy at epoch {epoch}: ', val_acc.numpy())\n",
    "        print(f'Train loss at epoch {epoch}: ', np.mean(batch_train_loss))\n",
    "        print(f'Validation loss at epoch {epoch}: ', np.mean(batch_val_loss))\n",
    "        print()\n",
    "    \n",
    "    model = model.to('cpu')\n",
    "\n",
    "    # Plotting the results\n",
    "    fig, (ax1, ax2) = plt.subplots(1, 2, figsize=(16, 7))\n",
    "    ax1.set_title('Accuracies')\n",
    "    ax1.plot(epoch_train_accuracies, label = 'train'), ax1.plot(epoch_val_accuracies, label = 'validation')\n",
    "    ax1.grid()\n",
    "    ax1.legend()\n",
    "\n",
    "    ax2.set_title('Losses')\n",
    "    ax2.plot(epoch_train_loss, label = 'train'), ax2.plot(epoch_val_loss, label = 'validation')\n",
    "    ax2.grid()\n",
    "    ax2.legend()\n",
    "\n",
    "    return epoch_train_accuracies, epoch_val_accuracies, epoch_train_loss, epoch_val_loss"
   ]
  },
  {
   "cell_type": "markdown",
   "metadata": {
    "id": "k7Cl9rrDEVg4"
   },
   "source": [
    "# Building the ResNext-50 from scratch"
   ]
  },
  {
   "cell_type": "markdown",
   "metadata": {
    "id": "wF2x7mg_4EkU"
   },
   "source": [
    "Since there was no more concrete description, I decided to implement the `ResNeXt-50 32x4d` architecture."
   ]
  },
  {
   "cell_type": "code",
   "execution_count": 9,
   "metadata": {
    "executionInfo": {
     "elapsed": 13,
     "status": "ok",
     "timestamp": 1681763610868,
     "user": {
      "displayName": "Ádám Váradi",
      "userId": "05519788549826843250"
     },
     "user_tz": -120
    },
    "id": "alkSYX_sPhpV"
   },
   "outputs": [],
   "source": [
    "import torch\n",
    "import torch.nn as nn"
   ]
  },
  {
   "cell_type": "code",
   "execution_count": 10,
   "metadata": {
    "executionInfo": {
     "elapsed": 12,
     "status": "ok",
     "timestamp": 1681763610868,
     "user": {
      "displayName": "Ádám Váradi",
      "userId": "05519788549826843250"
     },
     "user_tz": -120
    },
    "id": "LB9KEL5gRrUo"
   },
   "outputs": [],
   "source": [
    "# Definition of the basic block of the ResNeXt-50 architecture\n",
    "class resnext_block(nn.Module):\n",
    "  def __init__(self, in_channels, cardinality, bwidth, idt_downsample=None, stride=1):\n",
    "    super(resnext_block, self).__init__()\n",
    "    self.expansion = 2\n",
    "    out_channels = cardinality * bwidth\n",
    "    self.conv1 = nn.Conv2d(in_channels, out_channels, kernel_size=1, stride=1, padding=0)\n",
    "    self.bn1 = nn.BatchNorm2d(out_channels)\n",
    "    self.conv2 = nn.Conv2d(out_channels, out_channels, kernel_size=3, groups=cardinality, stride=stride, padding=1)\n",
    "    self.bn2 = nn.BatchNorm2d(out_channels)\n",
    "    self.conv3 = nn.Conv2d(out_channels, out_channels*self.expansion, kernel_size=1, stride=1, padding=0)\n",
    "    self.bn3 = nn.BatchNorm2d(out_channels*self.expansion)\n",
    "    self.relu = nn.ReLU()\n",
    "    self.identity_downsample = idt_downsample\n",
    "\n",
    "  def forward(self, x):\n",
    "    identity = x\n",
    "    x = self.conv1(x)\n",
    "    x = self.bn1(x)\n",
    "    x = self.relu(x)\n",
    "    x = self.conv2(x)\n",
    "    x = self.bn2(x)\n",
    "    x = self.relu(x)\n",
    "    x = self.conv3(x)\n",
    "    x = self.bn3(x)\n",
    "    \n",
    "    if self.identity_downsample is not None:\n",
    "      identity = self.identity_downsample(identity)\n",
    "            \n",
    "    x += identity\n",
    "    x = self.relu(x)\n",
    "    return x"
   ]
  },
  {
   "cell_type": "code",
   "execution_count": 11,
   "metadata": {
    "executionInfo": {
     "elapsed": 11,
     "status": "ok",
     "timestamp": 1681763610868,
     "user": {
      "displayName": "Ádám Váradi",
      "userId": "05519788549826843250"
     },
     "user_tz": -120
    },
    "id": "MiZMtMEKkYBw"
   },
   "outputs": [],
   "source": [
    "class ResNeXt(nn.Module):\n",
    "  def __init__(self, resnet_block, layers, cardinality, bwidth, img_channels, num_classes):\n",
    "    super(ResNeXt, self).__init__()\n",
    "    self.in_channels = 64\n",
    "    self.conv1 = nn.Conv2d(img_channels, 64, kernel_size=7, stride=2, padding=3)\n",
    "    self.bn1 = nn.BatchNorm2d(64)\n",
    "    self.relu = nn.ReLU()\n",
    "    self.cardinality = cardinality\n",
    "    self.bwidth = bwidth\n",
    "    self.maxpool = nn.MaxPool2d(kernel_size=3, stride=2, padding=1)\n",
    "        \n",
    "    self.layer1 = self._layers(resnext_block, layers[0], stride=1)\n",
    "    self.layer2 = self._layers(resnext_block, layers[1], stride=2)\n",
    "    self.layer3 = self._layers(resnext_block, layers[2], stride=2)\n",
    "    self.layer4 = self._layers(resnext_block, layers[3], stride=2)\n",
    "      \n",
    "    self.avgpool = nn.AdaptiveAvgPool2d((1,1))\n",
    "    self.fc = nn.Linear(self.cardinality * self.bwidth, num_classes)\n",
    "\n",
    "\n",
    "  def forward(self, x):\n",
    "    x = self.conv1(x)\n",
    "    x = self.bn1(x)\n",
    "    x = self.relu(x)\n",
    "    x = self.maxpool(x)\n",
    "     \n",
    "    x = self.layer1(x)\n",
    "    x = self.layer2(x)\n",
    "    x = self.layer3(x)\n",
    "    x = self.layer4(x)\n",
    "       \n",
    "    x = self.avgpool(x)\n",
    "    x = x.reshape(x.shape[0], -1)\n",
    "    x = self.fc(x)\n",
    "    return x\n",
    "\n",
    "  def _layers(self, resnext_block, no_residual_blocks, stride):\n",
    "    identity_downsample = None\n",
    "    out_channels = self.cardinality * self.bwidth\n",
    "    layers = []\n",
    "     \n",
    "    if stride != 1 or self.in_channels != out_channels * 2:\n",
    "      identity_downsample = nn.Sequential(nn.Conv2d(self.in_channels, out_channels*2, kernel_size=1, stride=stride), nn.BatchNorm2d(out_channels*2))\n",
    "       \n",
    "    layers.append(resnext_block(self.in_channels,  self.cardinality, self.bwidth, identity_downsample, stride))\n",
    "    self.in_channels = out_channels * 2\n",
    "      \n",
    "    for i in range(no_residual_blocks - 1):\n",
    "      layers.append(resnext_block(self.in_channels, self.cardinality, self.bwidth))\n",
    "        \n",
    "    self.bwidth *= 2  \n",
    "    return nn.Sequential(*layers)"
   ]
  },
  {
   "cell_type": "code",
   "execution_count": 12,
   "metadata": {
    "executionInfo": {
     "elapsed": 10,
     "status": "ok",
     "timestamp": 1681763610869,
     "user": {
      "displayName": "Ádám Váradi",
      "userId": "05519788549826843250"
     },
     "user_tz": -120
    },
    "id": "myNlScFxtMaU"
   },
   "outputs": [],
   "source": [
    "# Defining a function, that returns with an instance of the the ResNeXt-50 (with a default cardinality of 32):\n",
    "def ResNeXt50(img_channels=3, num_classes=10, cardinality=32, bwidth=4):\n",
    "    return ResNeXt(resnext_block, [3,4,6,3],  cardinality, bwidth, img_channels, num_classes)"
   ]
  },
  {
   "cell_type": "code",
   "execution_count": 13,
   "metadata": {
    "colab": {
     "base_uri": "https://localhost:8080/"
    },
    "executionInfo": {
     "elapsed": 1024,
     "status": "ok",
     "timestamp": 1681763611885,
     "user": {
      "displayName": "Ádám Váradi",
      "userId": "05519788549826843250"
     },
     "user_tz": -120
    },
    "id": "lrxWoEUdufTD",
    "outputId": "a2f66cae-41e8-487e-98b6-1fc1d2294fed"
   },
   "outputs": [
    {
     "name": "stdout",
     "output_type": "stream",
     "text": [
      "----------------------------------------------------------------\n",
      "        Layer (type)               Output Shape         Param #\n",
      "================================================================\n",
      "            Conv2d-1           [-1, 64, 64, 64]           9,472\n",
      "       BatchNorm2d-2           [-1, 64, 64, 64]             128\n",
      "              ReLU-3           [-1, 64, 64, 64]               0\n",
      "         MaxPool2d-4           [-1, 64, 32, 32]               0\n",
      "            Conv2d-5          [-1, 128, 32, 32]           8,320\n",
      "       BatchNorm2d-6          [-1, 128, 32, 32]             256\n",
      "              ReLU-7          [-1, 128, 32, 32]               0\n",
      "            Conv2d-8          [-1, 128, 32, 32]           4,736\n",
      "       BatchNorm2d-9          [-1, 128, 32, 32]             256\n",
      "             ReLU-10          [-1, 128, 32, 32]               0\n",
      "           Conv2d-11          [-1, 256, 32, 32]          33,024\n",
      "      BatchNorm2d-12          [-1, 256, 32, 32]             512\n",
      "           Conv2d-13          [-1, 256, 32, 32]          16,640\n",
      "      BatchNorm2d-14          [-1, 256, 32, 32]             512\n",
      "             ReLU-15          [-1, 256, 32, 32]               0\n",
      "    resnext_block-16          [-1, 256, 32, 32]               0\n",
      "           Conv2d-17          [-1, 128, 32, 32]          32,896\n",
      "      BatchNorm2d-18          [-1, 128, 32, 32]             256\n",
      "             ReLU-19          [-1, 128, 32, 32]               0\n",
      "           Conv2d-20          [-1, 128, 32, 32]           4,736\n",
      "      BatchNorm2d-21          [-1, 128, 32, 32]             256\n",
      "             ReLU-22          [-1, 128, 32, 32]               0\n",
      "           Conv2d-23          [-1, 256, 32, 32]          33,024\n",
      "      BatchNorm2d-24          [-1, 256, 32, 32]             512\n",
      "             ReLU-25          [-1, 256, 32, 32]               0\n",
      "    resnext_block-26          [-1, 256, 32, 32]               0\n",
      "           Conv2d-27          [-1, 128, 32, 32]          32,896\n",
      "      BatchNorm2d-28          [-1, 128, 32, 32]             256\n",
      "             ReLU-29          [-1, 128, 32, 32]               0\n",
      "           Conv2d-30          [-1, 128, 32, 32]           4,736\n",
      "      BatchNorm2d-31          [-1, 128, 32, 32]             256\n",
      "             ReLU-32          [-1, 128, 32, 32]               0\n",
      "           Conv2d-33          [-1, 256, 32, 32]          33,024\n",
      "      BatchNorm2d-34          [-1, 256, 32, 32]             512\n",
      "             ReLU-35          [-1, 256, 32, 32]               0\n",
      "    resnext_block-36          [-1, 256, 32, 32]               0\n",
      "           Conv2d-37          [-1, 256, 32, 32]          65,792\n",
      "      BatchNorm2d-38          [-1, 256, 32, 32]             512\n",
      "             ReLU-39          [-1, 256, 32, 32]               0\n",
      "           Conv2d-40          [-1, 256, 16, 16]          18,688\n",
      "      BatchNorm2d-41          [-1, 256, 16, 16]             512\n",
      "             ReLU-42          [-1, 256, 16, 16]               0\n",
      "           Conv2d-43          [-1, 512, 16, 16]         131,584\n",
      "      BatchNorm2d-44          [-1, 512, 16, 16]           1,024\n",
      "           Conv2d-45          [-1, 512, 16, 16]         131,584\n",
      "      BatchNorm2d-46          [-1, 512, 16, 16]           1,024\n",
      "             ReLU-47          [-1, 512, 16, 16]               0\n",
      "    resnext_block-48          [-1, 512, 16, 16]               0\n",
      "           Conv2d-49          [-1, 256, 16, 16]         131,328\n",
      "      BatchNorm2d-50          [-1, 256, 16, 16]             512\n",
      "             ReLU-51          [-1, 256, 16, 16]               0\n",
      "           Conv2d-52          [-1, 256, 16, 16]          18,688\n",
      "      BatchNorm2d-53          [-1, 256, 16, 16]             512\n",
      "             ReLU-54          [-1, 256, 16, 16]               0\n",
      "           Conv2d-55          [-1, 512, 16, 16]         131,584\n",
      "      BatchNorm2d-56          [-1, 512, 16, 16]           1,024\n",
      "             ReLU-57          [-1, 512, 16, 16]               0\n",
      "    resnext_block-58          [-1, 512, 16, 16]               0\n",
      "           Conv2d-59          [-1, 256, 16, 16]         131,328\n",
      "      BatchNorm2d-60          [-1, 256, 16, 16]             512\n",
      "             ReLU-61          [-1, 256, 16, 16]               0\n",
      "           Conv2d-62          [-1, 256, 16, 16]          18,688\n",
      "      BatchNorm2d-63          [-1, 256, 16, 16]             512\n",
      "             ReLU-64          [-1, 256, 16, 16]               0\n",
      "           Conv2d-65          [-1, 512, 16, 16]         131,584\n",
      "      BatchNorm2d-66          [-1, 512, 16, 16]           1,024\n",
      "             ReLU-67          [-1, 512, 16, 16]               0\n",
      "    resnext_block-68          [-1, 512, 16, 16]               0\n",
      "           Conv2d-69          [-1, 256, 16, 16]         131,328\n",
      "      BatchNorm2d-70          [-1, 256, 16, 16]             512\n",
      "             ReLU-71          [-1, 256, 16, 16]               0\n",
      "           Conv2d-72          [-1, 256, 16, 16]          18,688\n",
      "      BatchNorm2d-73          [-1, 256, 16, 16]             512\n",
      "             ReLU-74          [-1, 256, 16, 16]               0\n",
      "           Conv2d-75          [-1, 512, 16, 16]         131,584\n",
      "      BatchNorm2d-76          [-1, 512, 16, 16]           1,024\n",
      "             ReLU-77          [-1, 512, 16, 16]               0\n",
      "    resnext_block-78          [-1, 512, 16, 16]               0\n",
      "           Conv2d-79          [-1, 512, 16, 16]         262,656\n",
      "      BatchNorm2d-80          [-1, 512, 16, 16]           1,024\n",
      "             ReLU-81          [-1, 512, 16, 16]               0\n",
      "           Conv2d-82            [-1, 512, 8, 8]          74,240\n",
      "      BatchNorm2d-83            [-1, 512, 8, 8]           1,024\n",
      "             ReLU-84            [-1, 512, 8, 8]               0\n",
      "           Conv2d-85           [-1, 1024, 8, 8]         525,312\n",
      "      BatchNorm2d-86           [-1, 1024, 8, 8]           2,048\n",
      "           Conv2d-87           [-1, 1024, 8, 8]         525,312\n",
      "      BatchNorm2d-88           [-1, 1024, 8, 8]           2,048\n",
      "             ReLU-89           [-1, 1024, 8, 8]               0\n",
      "    resnext_block-90           [-1, 1024, 8, 8]               0\n",
      "           Conv2d-91            [-1, 512, 8, 8]         524,800\n",
      "      BatchNorm2d-92            [-1, 512, 8, 8]           1,024\n",
      "             ReLU-93            [-1, 512, 8, 8]               0\n",
      "           Conv2d-94            [-1, 512, 8, 8]          74,240\n",
      "      BatchNorm2d-95            [-1, 512, 8, 8]           1,024\n",
      "             ReLU-96            [-1, 512, 8, 8]               0\n",
      "           Conv2d-97           [-1, 1024, 8, 8]         525,312\n",
      "      BatchNorm2d-98           [-1, 1024, 8, 8]           2,048\n",
      "             ReLU-99           [-1, 1024, 8, 8]               0\n",
      "   resnext_block-100           [-1, 1024, 8, 8]               0\n",
      "          Conv2d-101            [-1, 512, 8, 8]         524,800\n",
      "     BatchNorm2d-102            [-1, 512, 8, 8]           1,024\n",
      "            ReLU-103            [-1, 512, 8, 8]               0\n",
      "          Conv2d-104            [-1, 512, 8, 8]          74,240\n",
      "     BatchNorm2d-105            [-1, 512, 8, 8]           1,024\n",
      "            ReLU-106            [-1, 512, 8, 8]               0\n",
      "          Conv2d-107           [-1, 1024, 8, 8]         525,312\n",
      "     BatchNorm2d-108           [-1, 1024, 8, 8]           2,048\n",
      "            ReLU-109           [-1, 1024, 8, 8]               0\n",
      "   resnext_block-110           [-1, 1024, 8, 8]               0\n",
      "          Conv2d-111            [-1, 512, 8, 8]         524,800\n",
      "     BatchNorm2d-112            [-1, 512, 8, 8]           1,024\n",
      "            ReLU-113            [-1, 512, 8, 8]               0\n",
      "          Conv2d-114            [-1, 512, 8, 8]          74,240\n",
      "     BatchNorm2d-115            [-1, 512, 8, 8]           1,024\n",
      "            ReLU-116            [-1, 512, 8, 8]               0\n",
      "          Conv2d-117           [-1, 1024, 8, 8]         525,312\n",
      "     BatchNorm2d-118           [-1, 1024, 8, 8]           2,048\n",
      "            ReLU-119           [-1, 1024, 8, 8]               0\n",
      "   resnext_block-120           [-1, 1024, 8, 8]               0\n",
      "          Conv2d-121            [-1, 512, 8, 8]         524,800\n",
      "     BatchNorm2d-122            [-1, 512, 8, 8]           1,024\n",
      "            ReLU-123            [-1, 512, 8, 8]               0\n",
      "          Conv2d-124            [-1, 512, 8, 8]          74,240\n",
      "     BatchNorm2d-125            [-1, 512, 8, 8]           1,024\n",
      "            ReLU-126            [-1, 512, 8, 8]               0\n",
      "          Conv2d-127           [-1, 1024, 8, 8]         525,312\n",
      "     BatchNorm2d-128           [-1, 1024, 8, 8]           2,048\n",
      "            ReLU-129           [-1, 1024, 8, 8]               0\n",
      "   resnext_block-130           [-1, 1024, 8, 8]               0\n",
      "          Conv2d-131            [-1, 512, 8, 8]         524,800\n",
      "     BatchNorm2d-132            [-1, 512, 8, 8]           1,024\n",
      "            ReLU-133            [-1, 512, 8, 8]               0\n",
      "          Conv2d-134            [-1, 512, 8, 8]          74,240\n",
      "     BatchNorm2d-135            [-1, 512, 8, 8]           1,024\n",
      "            ReLU-136            [-1, 512, 8, 8]               0\n",
      "          Conv2d-137           [-1, 1024, 8, 8]         525,312\n",
      "     BatchNorm2d-138           [-1, 1024, 8, 8]           2,048\n",
      "            ReLU-139           [-1, 1024, 8, 8]               0\n",
      "   resnext_block-140           [-1, 1024, 8, 8]               0\n",
      "          Conv2d-141           [-1, 1024, 8, 8]       1,049,600\n",
      "     BatchNorm2d-142           [-1, 1024, 8, 8]           2,048\n",
      "            ReLU-143           [-1, 1024, 8, 8]               0\n",
      "          Conv2d-144           [-1, 1024, 4, 4]         295,936\n",
      "     BatchNorm2d-145           [-1, 1024, 4, 4]           2,048\n",
      "            ReLU-146           [-1, 1024, 4, 4]               0\n",
      "          Conv2d-147           [-1, 2048, 4, 4]       2,099,200\n",
      "     BatchNorm2d-148           [-1, 2048, 4, 4]           4,096\n",
      "          Conv2d-149           [-1, 2048, 4, 4]       2,099,200\n",
      "     BatchNorm2d-150           [-1, 2048, 4, 4]           4,096\n",
      "            ReLU-151           [-1, 2048, 4, 4]               0\n",
      "   resnext_block-152           [-1, 2048, 4, 4]               0\n",
      "          Conv2d-153           [-1, 1024, 4, 4]       2,098,176\n",
      "     BatchNorm2d-154           [-1, 1024, 4, 4]           2,048\n",
      "            ReLU-155           [-1, 1024, 4, 4]               0\n",
      "          Conv2d-156           [-1, 1024, 4, 4]         295,936\n",
      "     BatchNorm2d-157           [-1, 1024, 4, 4]           2,048\n",
      "            ReLU-158           [-1, 1024, 4, 4]               0\n",
      "          Conv2d-159           [-1, 2048, 4, 4]       2,099,200\n",
      "     BatchNorm2d-160           [-1, 2048, 4, 4]           4,096\n",
      "            ReLU-161           [-1, 2048, 4, 4]               0\n",
      "   resnext_block-162           [-1, 2048, 4, 4]               0\n",
      "          Conv2d-163           [-1, 1024, 4, 4]       2,098,176\n",
      "     BatchNorm2d-164           [-1, 1024, 4, 4]           2,048\n",
      "            ReLU-165           [-1, 1024, 4, 4]               0\n",
      "          Conv2d-166           [-1, 1024, 4, 4]         295,936\n",
      "     BatchNorm2d-167           [-1, 1024, 4, 4]           2,048\n",
      "            ReLU-168           [-1, 1024, 4, 4]               0\n",
      "          Conv2d-169           [-1, 2048, 4, 4]       2,099,200\n",
      "     BatchNorm2d-170           [-1, 2048, 4, 4]           4,096\n",
      "            ReLU-171           [-1, 2048, 4, 4]               0\n",
      "   resnext_block-172           [-1, 2048, 4, 4]               0\n",
      "AdaptiveAvgPool2d-173           [-1, 2048, 1, 1]               0\n",
      "          Linear-174                   [-1, 10]          20,490\n",
      "================================================================\n",
      "Total params: 23,034,506\n",
      "Trainable params: 23,034,506\n",
      "Non-trainable params: 0\n",
      "----------------------------------------------------------------\n",
      "Input size (MB): 0.19\n",
      "Forward/backward pass size (MB): 118.14\n",
      "Params size (MB): 87.87\n",
      "Estimated Total Size (MB): 206.20\n",
      "----------------------------------------------------------------\n"
     ]
    }
   ],
   "source": [
    "# Let's see the summary of the built model to make sure, that we implemented the right model:\n",
    "summary(ResNeXt50(), input_size = (3, 128, 128), device = 'cpu')"
   ]
  },
  {
   "cell_type": "markdown",
   "metadata": {
    "id": "RPcbU-i8whbz"
   },
   "source": [
    "## Training the manually built model for 10 epochs"
   ]
  },
  {
   "cell_type": "code",
   "execution_count": 14,
   "metadata": {
    "colab": {
     "base_uri": "https://localhost:8080/",
     "height": 1000
    },
    "executionInfo": {
     "elapsed": 376768,
     "status": "ok",
     "timestamp": 1681763988648,
     "user": {
      "displayName": "Ádám Váradi",
      "userId": "05519788549826843250"
     },
     "user_tz": -120
    },
    "id": "bHGIQKzWwfwj",
    "outputId": "4d06c736-d3f7-47b4-c0af-2de8abaf7038"
   },
   "outputs": [
    {
     "name": "stdout",
     "output_type": "stream",
     "text": [
      "Train accuracy at epoch 1:  0.19334\n",
      "Validation accuracy at epoch 1:  0.2667\n",
      "Train loss at epoch 1:  4.710333138170754\n",
      "Validation loss at epoch 1:  2.5941061777404593\n",
      "\n",
      "Train accuracy at epoch 2:  0.25324\n",
      "Validation accuracy at epoch 2:  0.3085\n",
      "Train loss at epoch 2:  1.8791115564458511\n",
      "Validation loss at epoch 2:  1.795985013623781\n",
      "\n",
      "Train accuracy at epoch 3:  0.29611334\n",
      "Validation accuracy at epoch 3:  0.34403333\n",
      "Train loss at epoch 3:  1.6685063345048128\n",
      "Validation loss at epoch 3:  1.598281750196143\n",
      "\n",
      "Train accuracy at epoch 4:  0.32923\n",
      "Validation accuracy at epoch 4:  0.367375\n",
      "Train loss at epoch 4:  1.551237611514528\n",
      "Validation loss at epoch 4:  1.529103410394886\n",
      "\n",
      "Train accuracy at epoch 5:  0.356376\n",
      "Validation accuracy at epoch 5:  0.3906\n",
      "Train loss at epoch 5:  1.4615821021292217\n",
      "Validation loss at epoch 5:  1.4401956177964996\n",
      "\n",
      "Train accuracy at epoch 6:  0.38004667\n",
      "Validation accuracy at epoch 6:  0.40791667\n",
      "Train loss at epoch 6:  1.3814724912423917\n",
      "Validation loss at epoch 6:  1.3987786890585212\n",
      "\n",
      "Train accuracy at epoch 7:  0.40020856\n",
      "Validation accuracy at epoch 7:  0.42282858\n",
      "Train loss at epoch 7:  1.3201964971659435\n",
      "Validation loss at epoch 7:  1.3319160757185537\n",
      "\n",
      "Train accuracy at epoch 8:  0.41874\n",
      "Validation accuracy at epoch 8:  0.438725\n",
      "Train loss at epoch 8:  1.2507414459572423\n",
      "Validation loss at epoch 8:  1.2586339742322512\n",
      "\n",
      "Train accuracy at epoch 9:  0.4358289\n",
      "Validation accuracy at epoch 9:  0.45176667\n",
      "Train loss at epoch 9:  1.1897204734785172\n",
      "Validation loss at epoch 9:  1.2654746227626559\n",
      "\n",
      "Train accuracy at epoch 10:  0.451652\n",
      "Validation accuracy at epoch 10:  0.46343\n",
      "Train loss at epoch 10:  1.1359557457592175\n",
      "Validation loss at epoch 10:  1.2087891079202484\n",
      "\n"
     ]
    },
    {
     "data": {
      "image/png": "[encoded data removed]",
      "text/plain": [
       "<Figure size 1600x700 with 2 Axes>"
      ]
     },
     "metadata": {},
     "output_type": "display_data"
    }
   ],
   "source": [
    "model = ResNeXt50()\n",
    "optimizer = optim.SGD(model.parameters(), lr = 0.1, momentum = 0.9)\n",
    "loss = nn.CrossEntropyLoss()\n",
    "\n",
    "resnext_manual_train_accs, resnext_manual_val_accs, resnext_manual_train_loss, resnext_manual_val_loss = train(model, train_loader, val_loader, loss, optimizer, num_classes = 10, num_epochs = 10)"
   ]
  },
  {
   "cell_type": "markdown",
   "metadata": {
    "id": "XVPiQKhjyBfT"
   },
   "source": [
    "**Remark:** As expected, it is visible, that the accuracies are increasing as the number of epochs increase and in the meanwhile, the losses are decreasing. It can also be observed, that the accuracy still increases, furthermore overfitting still did not occur and we could get better results if we would increase the number of epochs."
   ]
  },
  {
   "cell_type": "markdown",
   "metadata": {
    "id": "nNAnKUENqZ4-"
   },
   "source": [
    "# Pretrained ResNext-50"
   ]
  },
  {
   "cell_type": "code",
   "execution_count": 15,
   "metadata": {
    "executionInfo": {
     "elapsed": 8,
     "status": "ok",
     "timestamp": 1681763988649,
     "user": {
      "displayName": "Ádám Váradi",
      "userId": "05519788549826843250"
     },
     "user_tz": -120
    },
    "id": "ATg3gwZevJFu"
   },
   "outputs": [],
   "source": [
    "from torchvision.models import resnext50_32x4d, ResNeXt50_32X4D_Weights"
   ]
  },
  {
   "cell_type": "code",
   "execution_count": 16,
   "metadata": {
    "colab": {
     "base_uri": "https://localhost:8080/"
    },
    "executionInfo": {
     "elapsed": 796,
     "status": "ok",
     "timestamp": 1681763989438,
     "user": {
      "displayName": "Ádám Váradi",
      "userId": "05519788549826843250"
     },
     "user_tz": -120
    },
    "id": "nVbhmSJntUVE",
    "outputId": "48f53c0c-155b-4526-e325-3f662df8f054"
   },
   "outputs": [
    {
     "name": "stderr",
     "output_type": "stream",
     "text": [
      "Downloading: \"https://download.pytorch.org/models/resnext50_32x4d-1a0047aa.pth\" to /home/jupyter/.cache/torch/hub/checkpoints/resnext50_32x4d-1a0047aa.pth\n"
     ]
    },
    {
     "ename": "URLError",
     "evalue": "<urlopen error [Errno 101] Network is unreachable>",
     "output_type": "error",
     "traceback": [
      "\u001b[0;31m---------------------------------------------------------------------------\u001b[0m",
      "\u001b[0;31mOSError\u001b[0m                                   Traceback (most recent call last)",
      "\u001b[0;32m/opt/conda/lib/python3.7/urllib/request.py\u001b[0m in \u001b[0;36mdo_open\u001b[0;34m(self, http_class, req, **http_conn_args)\u001b[0m\n\u001b[1;32m   1349\u001b[0m                 h.request(req.get_method(), req.selector, req.data, headers,\n\u001b[0;32m-> 1350\u001b[0;31m                           encode_chunked=req.has_header('Transfer-encoding'))\n\u001b[0m\u001b[1;32m   1351\u001b[0m             \u001b[0;32mexcept\u001b[0m \u001b[0mOSError\u001b[0m \u001b[0;32mas\u001b[0m \u001b[0merr\u001b[0m\u001b[0;34m:\u001b[0m \u001b[0;31m# timeout error\u001b[0m\u001b[0;34m\u001b[0m\u001b[0;34m\u001b[0m\u001b[0m\n",
      "\u001b[0;32m/opt/conda/lib/python3.7/http/client.py\u001b[0m in \u001b[0;36mrequest\u001b[0;34m(self, method, url, body, headers, encode_chunked)\u001b[0m\n\u001b[1;32m   1280\u001b[0m         \u001b[0;34m\"\"\"Send a complete request to the server.\"\"\"\u001b[0m\u001b[0;34m\u001b[0m\u001b[0;34m\u001b[0m\u001b[0m\n\u001b[0;32m-> 1281\u001b[0;31m         \u001b[0mself\u001b[0m\u001b[0;34m.\u001b[0m\u001b[0m_send_request\u001b[0m\u001b[0;34m(\u001b[0m\u001b[0mmethod\u001b[0m\u001b[0;34m,\u001b[0m \u001b[0murl\u001b[0m\u001b[0;34m,\u001b[0m \u001b[0mbody\u001b[0m\u001b[0;34m,\u001b[0m \u001b[0mheaders\u001b[0m\u001b[0;34m,\u001b[0m \u001b[0mencode_chunked\u001b[0m\u001b[0;34m)\u001b[0m\u001b[0;34m\u001b[0m\u001b[0;34m\u001b[0m\u001b[0m\n\u001b[0m\u001b[1;32m   1282\u001b[0m \u001b[0;34m\u001b[0m\u001b[0m\n",
      "\u001b[0;32m/opt/conda/lib/python3.7/http/client.py\u001b[0m in \u001b[0;36m_send_request\u001b[0;34m(self, method, url, body, headers, encode_chunked)\u001b[0m\n\u001b[1;32m   1326\u001b[0m             \u001b[0mbody\u001b[0m \u001b[0;34m=\u001b[0m \u001b[0m_encode\u001b[0m\u001b[0;34m(\u001b[0m\u001b[0mbody\u001b[0m\u001b[0;34m,\u001b[0m \u001b[0;34m'body'\u001b[0m\u001b[0;34m)\u001b[0m\u001b[0;34m\u001b[0m\u001b[0;34m\u001b[0m\u001b[0m\n\u001b[0;32m-> 1327\u001b[0;31m         \u001b[0mself\u001b[0m\u001b[0;34m.\u001b[0m\u001b[0mendheaders\u001b[0m\u001b[0;34m(\u001b[0m\u001b[0mbody\u001b[0m\u001b[0;34m,\u001b[0m \u001b[0mencode_chunked\u001b[0m\u001b[0;34m=\u001b[0m\u001b[0mencode_chunked\u001b[0m\u001b[0;34m)\u001b[0m\u001b[0;34m\u001b[0m\u001b[0;34m\u001b[0m\u001b[0m\n\u001b[0m\u001b[1;32m   1328\u001b[0m \u001b[0;34m\u001b[0m\u001b[0m\n",
      "\u001b[0;32m/opt/conda/lib/python3.7/http/client.py\u001b[0m in \u001b[0;36mendheaders\u001b[0;34m(self, message_body, encode_chunked)\u001b[0m\n\u001b[1;32m   1275\u001b[0m             \u001b[0;32mraise\u001b[0m \u001b[0mCannotSendHeader\u001b[0m\u001b[0;34m(\u001b[0m\u001b[0;34m)\u001b[0m\u001b[0;34m\u001b[0m\u001b[0;34m\u001b[0m\u001b[0m\n\u001b[0;32m-> 1276\u001b[0;31m         \u001b[0mself\u001b[0m\u001b[0;34m.\u001b[0m\u001b[0m_send_output\u001b[0m\u001b[0;34m(\u001b[0m\u001b[0mmessage_body\u001b[0m\u001b[0;34m,\u001b[0m \u001b[0mencode_chunked\u001b[0m\u001b[0;34m=\u001b[0m\u001b[0mencode_chunked\u001b[0m\u001b[0;34m)\u001b[0m\u001b[0;34m\u001b[0m\u001b[0;34m\u001b[0m\u001b[0m\n\u001b[0m\u001b[1;32m   1277\u001b[0m \u001b[0;34m\u001b[0m\u001b[0m\n",
      "\u001b[0;32m/opt/conda/lib/python3.7/http/client.py\u001b[0m in \u001b[0;36m_send_output\u001b[0;34m(self, message_body, encode_chunked)\u001b[0m\n\u001b[1;32m   1035\u001b[0m         \u001b[0;32mdel\u001b[0m \u001b[0mself\u001b[0m\u001b[0;34m.\u001b[0m\u001b[0m_buffer\u001b[0m\u001b[0;34m[\u001b[0m\u001b[0;34m:\u001b[0m\u001b[0;34m]\u001b[0m\u001b[0;34m\u001b[0m\u001b[0;34m\u001b[0m\u001b[0m\n\u001b[0;32m-> 1036\u001b[0;31m         \u001b[0mself\u001b[0m\u001b[0;34m.\u001b[0m\u001b[0msend\u001b[0m\u001b[0;34m(\u001b[0m\u001b[0mmsg\u001b[0m\u001b[0;34m)\u001b[0m\u001b[0;34m\u001b[0m\u001b[0;34m\u001b[0m\u001b[0m\n\u001b[0m\u001b[1;32m   1037\u001b[0m \u001b[0;34m\u001b[0m\u001b[0m\n",
      "\u001b[0;32m/opt/conda/lib/python3.7/http/client.py\u001b[0m in \u001b[0;36msend\u001b[0;34m(self, data)\u001b[0m\n\u001b[1;32m    975\u001b[0m             \u001b[0;32mif\u001b[0m \u001b[0mself\u001b[0m\u001b[0;34m.\u001b[0m\u001b[0mauto_open\u001b[0m\u001b[0;34m:\u001b[0m\u001b[0;34m\u001b[0m\u001b[0;34m\u001b[0m\u001b[0m\n\u001b[0;32m--> 976\u001b[0;31m                 \u001b[0mself\u001b[0m\u001b[0;34m.\u001b[0m\u001b[0mconnect\u001b[0m\u001b[0;34m(\u001b[0m\u001b[0;34m)\u001b[0m\u001b[0;34m\u001b[0m\u001b[0;34m\u001b[0m\u001b[0m\n\u001b[0m\u001b[1;32m    977\u001b[0m             \u001b[0;32melse\u001b[0m\u001b[0;34m:\u001b[0m\u001b[0;34m\u001b[0m\u001b[0;34m\u001b[0m\u001b[0m\n",
      "\u001b[0;32m/opt/conda/lib/python3.7/http/client.py\u001b[0m in \u001b[0;36mconnect\u001b[0;34m(self)\u001b[0m\n\u001b[1;32m   1442\u001b[0m \u001b[0;34m\u001b[0m\u001b[0m\n\u001b[0;32m-> 1443\u001b[0;31m             \u001b[0msuper\u001b[0m\u001b[0;34m(\u001b[0m\u001b[0;34m)\u001b[0m\u001b[0;34m.\u001b[0m\u001b[0mconnect\u001b[0m\u001b[0;34m(\u001b[0m\u001b[0;34m)\u001b[0m\u001b[0;34m\u001b[0m\u001b[0;34m\u001b[0m\u001b[0m\n\u001b[0m\u001b[1;32m   1444\u001b[0m \u001b[0;34m\u001b[0m\u001b[0m\n",
      "\u001b[0;32m/opt/conda/lib/python3.7/http/client.py\u001b[0m in \u001b[0;36mconnect\u001b[0;34m(self)\u001b[0m\n\u001b[1;32m    947\u001b[0m         self.sock = self._create_connection(\n\u001b[0;32m--> 948\u001b[0;31m             (self.host,self.port), self.timeout, self.source_address)\n\u001b[0m\u001b[1;32m    949\u001b[0m         \u001b[0mself\u001b[0m\u001b[0;34m.\u001b[0m\u001b[0msock\u001b[0m\u001b[0;34m.\u001b[0m\u001b[0msetsockopt\u001b[0m\u001b[0;34m(\u001b[0m\u001b[0msocket\u001b[0m\u001b[0;34m.\u001b[0m\u001b[0mIPPROTO_TCP\u001b[0m\u001b[0;34m,\u001b[0m \u001b[0msocket\u001b[0m\u001b[0;34m.\u001b[0m\u001b[0mTCP_NODELAY\u001b[0m\u001b[0;34m,\u001b[0m \u001b[0;36m1\u001b[0m\u001b[0;34m)\u001b[0m\u001b[0;34m\u001b[0m\u001b[0;34m\u001b[0m\u001b[0m\n",
      "\u001b[0;32m/opt/conda/lib/python3.7/socket.py\u001b[0m in \u001b[0;36mcreate_connection\u001b[0;34m(address, timeout, source_address)\u001b[0m\n\u001b[1;32m    727\u001b[0m         \u001b[0;32mtry\u001b[0m\u001b[0;34m:\u001b[0m\u001b[0;34m\u001b[0m\u001b[0;34m\u001b[0m\u001b[0m\n\u001b[0;32m--> 728\u001b[0;31m             \u001b[0;32mraise\u001b[0m \u001b[0merr\u001b[0m\u001b[0;34m\u001b[0m\u001b[0;34m\u001b[0m\u001b[0m\n\u001b[0m\u001b[1;32m    729\u001b[0m         \u001b[0;32mfinally\u001b[0m\u001b[0;34m:\u001b[0m\u001b[0;34m\u001b[0m\u001b[0;34m\u001b[0m\u001b[0m\n",
      "\u001b[0;32m/opt/conda/lib/python3.7/socket.py\u001b[0m in \u001b[0;36mcreate_connection\u001b[0;34m(address, timeout, source_address)\u001b[0m\n\u001b[1;32m    715\u001b[0m                 \u001b[0msock\u001b[0m\u001b[0;34m.\u001b[0m\u001b[0mbind\u001b[0m\u001b[0;34m(\u001b[0m\u001b[0msource_address\u001b[0m\u001b[0;34m)\u001b[0m\u001b[0;34m\u001b[0m\u001b[0;34m\u001b[0m\u001b[0m\n\u001b[0;32m--> 716\u001b[0;31m             \u001b[0msock\u001b[0m\u001b[0;34m.\u001b[0m\u001b[0mconnect\u001b[0m\u001b[0;34m(\u001b[0m\u001b[0msa\u001b[0m\u001b[0;34m)\u001b[0m\u001b[0;34m\u001b[0m\u001b[0;34m\u001b[0m\u001b[0m\n\u001b[0m\u001b[1;32m    717\u001b[0m             \u001b[0;31m# Break explicitly a reference cycle\u001b[0m\u001b[0;34m\u001b[0m\u001b[0;34m\u001b[0m\u001b[0;34m\u001b[0m\u001b[0m\n",
      "\u001b[0;31mOSError\u001b[0m: [Errno 101] Network is unreachable",
      "\nDuring handling of the above exception, another exception occurred:\n",
      "\u001b[0;31mURLError\u001b[0m                                  Traceback (most recent call last)",
      "\u001b[0;32m/var/tmp/ipykernel_14969/3385220999.py\u001b[0m in \u001b[0;36m<module>\u001b[0;34m\u001b[0m\n\u001b[0;32m----> 1\u001b[0;31m \u001b[0mpretrained_model\u001b[0m \u001b[0;34m=\u001b[0m \u001b[0mresnext50_32x4d\u001b[0m\u001b[0;34m(\u001b[0m\u001b[0mweights\u001b[0m\u001b[0;34m=\u001b[0m\u001b[0mResNeXt50_32X4D_Weights\u001b[0m\u001b[0;34m.\u001b[0m\u001b[0mDEFAULT\u001b[0m\u001b[0;34m)\u001b[0m\u001b[0;34m\u001b[0m\u001b[0;34m\u001b[0m\u001b[0m\n\u001b[0m",
      "\u001b[0;32m/opt/conda/lib/python3.7/site-packages/torchvision/models/_utils.py\u001b[0m in \u001b[0;36mwrapper\u001b[0;34m(*args, **kwargs)\u001b[0m\n\u001b[1;32m    140\u001b[0m             \u001b[0mkwargs\u001b[0m\u001b[0;34m.\u001b[0m\u001b[0mupdate\u001b[0m\u001b[0;34m(\u001b[0m\u001b[0mkeyword_only_kwargs\u001b[0m\u001b[0;34m)\u001b[0m\u001b[0;34m\u001b[0m\u001b[0;34m\u001b[0m\u001b[0m\n\u001b[1;32m    141\u001b[0m \u001b[0;34m\u001b[0m\u001b[0m\n\u001b[0;32m--> 142\u001b[0;31m         \u001b[0;32mreturn\u001b[0m \u001b[0mfn\u001b[0m\u001b[0;34m(\u001b[0m\u001b[0;34m*\u001b[0m\u001b[0margs\u001b[0m\u001b[0;34m,\u001b[0m \u001b[0;34m**\u001b[0m\u001b[0mkwargs\u001b[0m\u001b[0;34m)\u001b[0m\u001b[0;34m\u001b[0m\u001b[0;34m\u001b[0m\u001b[0m\n\u001b[0m\u001b[1;32m    143\u001b[0m \u001b[0;34m\u001b[0m\u001b[0m\n\u001b[1;32m    144\u001b[0m     \u001b[0;32mreturn\u001b[0m \u001b[0mwrapper\u001b[0m\u001b[0;34m\u001b[0m\u001b[0;34m\u001b[0m\u001b[0m\n",
      "\u001b[0;32m/opt/conda/lib/python3.7/site-packages/torchvision/models/_utils.py\u001b[0m in \u001b[0;36minner_wrapper\u001b[0;34m(*args, **kwargs)\u001b[0m\n\u001b[1;32m    226\u001b[0m                 \u001b[0mkwargs\u001b[0m\u001b[0;34m[\u001b[0m\u001b[0mweights_param\u001b[0m\u001b[0;34m]\u001b[0m \u001b[0;34m=\u001b[0m \u001b[0mdefault_weights_arg\u001b[0m\u001b[0;34m\u001b[0m\u001b[0;34m\u001b[0m\u001b[0m\n\u001b[1;32m    227\u001b[0m \u001b[0;34m\u001b[0m\u001b[0m\n\u001b[0;32m--> 228\u001b[0;31m             \u001b[0;32mreturn\u001b[0m \u001b[0mbuilder\u001b[0m\u001b[0;34m(\u001b[0m\u001b[0;34m*\u001b[0m\u001b[0margs\u001b[0m\u001b[0;34m,\u001b[0m \u001b[0;34m**\u001b[0m\u001b[0mkwargs\u001b[0m\u001b[0;34m)\u001b[0m\u001b[0;34m\u001b[0m\u001b[0;34m\u001b[0m\u001b[0m\n\u001b[0m\u001b[1;32m    229\u001b[0m \u001b[0;34m\u001b[0m\u001b[0m\n\u001b[1;32m    230\u001b[0m         \u001b[0;32mreturn\u001b[0m \u001b[0minner_wrapper\u001b[0m\u001b[0;34m\u001b[0m\u001b[0;34m\u001b[0m\u001b[0m\n",
      "\u001b[0;32m/opt/conda/lib/python3.7/site-packages/torchvision/models/resnet.py\u001b[0m in \u001b[0;36mresnext50_32x4d\u001b[0;34m(weights, progress, **kwargs)\u001b[0m\n\u001b[1;32m    821\u001b[0m     \u001b[0m_ovewrite_named_param\u001b[0m\u001b[0;34m(\u001b[0m\u001b[0mkwargs\u001b[0m\u001b[0;34m,\u001b[0m \u001b[0;34m\"groups\"\u001b[0m\u001b[0;34m,\u001b[0m \u001b[0;36m32\u001b[0m\u001b[0;34m)\u001b[0m\u001b[0;34m\u001b[0m\u001b[0;34m\u001b[0m\u001b[0m\n\u001b[1;32m    822\u001b[0m     \u001b[0m_ovewrite_named_param\u001b[0m\u001b[0;34m(\u001b[0m\u001b[0mkwargs\u001b[0m\u001b[0;34m,\u001b[0m \u001b[0;34m\"width_per_group\"\u001b[0m\u001b[0;34m,\u001b[0m \u001b[0;36m4\u001b[0m\u001b[0;34m)\u001b[0m\u001b[0;34m\u001b[0m\u001b[0;34m\u001b[0m\u001b[0m\n\u001b[0;32m--> 823\u001b[0;31m     \u001b[0;32mreturn\u001b[0m \u001b[0m_resnet\u001b[0m\u001b[0;34m(\u001b[0m\u001b[0mBottleneck\u001b[0m\u001b[0;34m,\u001b[0m \u001b[0;34m[\u001b[0m\u001b[0;36m3\u001b[0m\u001b[0;34m,\u001b[0m \u001b[0;36m4\u001b[0m\u001b[0;34m,\u001b[0m \u001b[0;36m6\u001b[0m\u001b[0;34m,\u001b[0m \u001b[0;36m3\u001b[0m\u001b[0;34m]\u001b[0m\u001b[0;34m,\u001b[0m \u001b[0mweights\u001b[0m\u001b[0;34m,\u001b[0m \u001b[0mprogress\u001b[0m\u001b[0;34m,\u001b[0m \u001b[0;34m**\u001b[0m\u001b[0mkwargs\u001b[0m\u001b[0;34m)\u001b[0m\u001b[0;34m\u001b[0m\u001b[0;34m\u001b[0m\u001b[0m\n\u001b[0m\u001b[1;32m    824\u001b[0m \u001b[0;34m\u001b[0m\u001b[0m\n\u001b[1;32m    825\u001b[0m \u001b[0;34m\u001b[0m\u001b[0m\n",
      "\u001b[0;32m/opt/conda/lib/python3.7/site-packages/torchvision/models/resnet.py\u001b[0m in \u001b[0;36m_resnet\u001b[0;34m(block, layers, weights, progress, **kwargs)\u001b[0m\n\u001b[1;32m    299\u001b[0m \u001b[0;34m\u001b[0m\u001b[0m\n\u001b[1;32m    300\u001b[0m     \u001b[0;32mif\u001b[0m \u001b[0mweights\u001b[0m \u001b[0;32mis\u001b[0m \u001b[0;32mnot\u001b[0m \u001b[0;32mNone\u001b[0m\u001b[0;34m:\u001b[0m\u001b[0;34m\u001b[0m\u001b[0;34m\u001b[0m\u001b[0m\n\u001b[0;32m--> 301\u001b[0;31m         \u001b[0mmodel\u001b[0m\u001b[0;34m.\u001b[0m\u001b[0mload_state_dict\u001b[0m\u001b[0;34m(\u001b[0m\u001b[0mweights\u001b[0m\u001b[0;34m.\u001b[0m\u001b[0mget_state_dict\u001b[0m\u001b[0;34m(\u001b[0m\u001b[0mprogress\u001b[0m\u001b[0;34m=\u001b[0m\u001b[0mprogress\u001b[0m\u001b[0;34m)\u001b[0m\u001b[0;34m)\u001b[0m\u001b[0;34m\u001b[0m\u001b[0;34m\u001b[0m\u001b[0m\n\u001b[0m\u001b[1;32m    302\u001b[0m \u001b[0;34m\u001b[0m\u001b[0m\n\u001b[1;32m    303\u001b[0m     \u001b[0;32mreturn\u001b[0m \u001b[0mmodel\u001b[0m\u001b[0;34m\u001b[0m\u001b[0;34m\u001b[0m\u001b[0m\n",
      "\u001b[0;32m/opt/conda/lib/python3.7/site-packages/torchvision/models/_api.py\u001b[0m in \u001b[0;36mget_state_dict\u001b[0;34m(self, progress)\u001b[0m\n\u001b[1;32m     64\u001b[0m \u001b[0;34m\u001b[0m\u001b[0m\n\u001b[1;32m     65\u001b[0m     \u001b[0;32mdef\u001b[0m \u001b[0mget_state_dict\u001b[0m\u001b[0;34m(\u001b[0m\u001b[0mself\u001b[0m\u001b[0;34m,\u001b[0m \u001b[0mprogress\u001b[0m\u001b[0;34m:\u001b[0m \u001b[0mbool\u001b[0m\u001b[0;34m)\u001b[0m \u001b[0;34m->\u001b[0m \u001b[0mMapping\u001b[0m\u001b[0;34m[\u001b[0m\u001b[0mstr\u001b[0m\u001b[0;34m,\u001b[0m \u001b[0mAny\u001b[0m\u001b[0;34m]\u001b[0m\u001b[0;34m:\u001b[0m\u001b[0;34m\u001b[0m\u001b[0;34m\u001b[0m\u001b[0m\n\u001b[0;32m---> 66\u001b[0;31m         \u001b[0;32mreturn\u001b[0m \u001b[0mload_state_dict_from_url\u001b[0m\u001b[0;34m(\u001b[0m\u001b[0mself\u001b[0m\u001b[0;34m.\u001b[0m\u001b[0murl\u001b[0m\u001b[0;34m,\u001b[0m \u001b[0mprogress\u001b[0m\u001b[0;34m=\u001b[0m\u001b[0mprogress\u001b[0m\u001b[0;34m)\u001b[0m\u001b[0;34m\u001b[0m\u001b[0;34m\u001b[0m\u001b[0m\n\u001b[0m\u001b[1;32m     67\u001b[0m \u001b[0;34m\u001b[0m\u001b[0m\n\u001b[1;32m     68\u001b[0m     \u001b[0;32mdef\u001b[0m \u001b[0m__repr__\u001b[0m\u001b[0;34m(\u001b[0m\u001b[0mself\u001b[0m\u001b[0;34m)\u001b[0m \u001b[0;34m->\u001b[0m \u001b[0mstr\u001b[0m\u001b[0;34m:\u001b[0m\u001b[0;34m\u001b[0m\u001b[0;34m\u001b[0m\u001b[0m\n",
      "\u001b[0;32m/opt/conda/lib/python3.7/site-packages/torch/hub.py\u001b[0m in \u001b[0;36mload_state_dict_from_url\u001b[0;34m(url, model_dir, map_location, progress, check_hash, file_name)\u001b[0m\n\u001b[1;32m    729\u001b[0m             \u001b[0mr\u001b[0m \u001b[0;34m=\u001b[0m \u001b[0mHASH_REGEX\u001b[0m\u001b[0;34m.\u001b[0m\u001b[0msearch\u001b[0m\u001b[0;34m(\u001b[0m\u001b[0mfilename\u001b[0m\u001b[0;34m)\u001b[0m  \u001b[0;31m# r is Optional[Match[str]]\u001b[0m\u001b[0;34m\u001b[0m\u001b[0;34m\u001b[0m\u001b[0m\n\u001b[1;32m    730\u001b[0m             \u001b[0mhash_prefix\u001b[0m \u001b[0;34m=\u001b[0m \u001b[0mr\u001b[0m\u001b[0;34m.\u001b[0m\u001b[0mgroup\u001b[0m\u001b[0;34m(\u001b[0m\u001b[0;36m1\u001b[0m\u001b[0;34m)\u001b[0m \u001b[0;32mif\u001b[0m \u001b[0mr\u001b[0m \u001b[0;32melse\u001b[0m \u001b[0;32mNone\u001b[0m\u001b[0;34m\u001b[0m\u001b[0;34m\u001b[0m\u001b[0m\n\u001b[0;32m--> 731\u001b[0;31m         \u001b[0mdownload_url_to_file\u001b[0m\u001b[0;34m(\u001b[0m\u001b[0murl\u001b[0m\u001b[0;34m,\u001b[0m \u001b[0mcached_file\u001b[0m\u001b[0;34m,\u001b[0m \u001b[0mhash_prefix\u001b[0m\u001b[0;34m,\u001b[0m \u001b[0mprogress\u001b[0m\u001b[0;34m=\u001b[0m\u001b[0mprogress\u001b[0m\u001b[0;34m)\u001b[0m\u001b[0;34m\u001b[0m\u001b[0;34m\u001b[0m\u001b[0m\n\u001b[0m\u001b[1;32m    732\u001b[0m \u001b[0;34m\u001b[0m\u001b[0m\n\u001b[1;32m    733\u001b[0m     \u001b[0;32mif\u001b[0m \u001b[0m_is_legacy_zip_format\u001b[0m\u001b[0;34m(\u001b[0m\u001b[0mcached_file\u001b[0m\u001b[0;34m)\u001b[0m\u001b[0;34m:\u001b[0m\u001b[0;34m\u001b[0m\u001b[0;34m\u001b[0m\u001b[0m\n",
      "\u001b[0;32m/opt/conda/lib/python3.7/site-packages/torch/hub.py\u001b[0m in \u001b[0;36mdownload_url_to_file\u001b[0;34m(url, dst, hash_prefix, progress)\u001b[0m\n\u001b[1;32m    595\u001b[0m     \u001b[0mfile_size\u001b[0m \u001b[0;34m=\u001b[0m \u001b[0;32mNone\u001b[0m\u001b[0;34m\u001b[0m\u001b[0;34m\u001b[0m\u001b[0m\n\u001b[1;32m    596\u001b[0m     \u001b[0mreq\u001b[0m \u001b[0;34m=\u001b[0m \u001b[0mRequest\u001b[0m\u001b[0;34m(\u001b[0m\u001b[0murl\u001b[0m\u001b[0;34m,\u001b[0m \u001b[0mheaders\u001b[0m\u001b[0;34m=\u001b[0m\u001b[0;34m{\u001b[0m\u001b[0;34m\"User-Agent\"\u001b[0m\u001b[0;34m:\u001b[0m \u001b[0;34m\"torch.hub\"\u001b[0m\u001b[0;34m}\u001b[0m\u001b[0;34m)\u001b[0m\u001b[0;34m\u001b[0m\u001b[0;34m\u001b[0m\u001b[0m\n\u001b[0;32m--> 597\u001b[0;31m     \u001b[0mu\u001b[0m \u001b[0;34m=\u001b[0m \u001b[0murlopen\u001b[0m\u001b[0;34m(\u001b[0m\u001b[0mreq\u001b[0m\u001b[0;34m)\u001b[0m\u001b[0;34m\u001b[0m\u001b[0;34m\u001b[0m\u001b[0m\n\u001b[0m\u001b[1;32m    598\u001b[0m     \u001b[0mmeta\u001b[0m \u001b[0;34m=\u001b[0m \u001b[0mu\u001b[0m\u001b[0;34m.\u001b[0m\u001b[0minfo\u001b[0m\u001b[0;34m(\u001b[0m\u001b[0;34m)\u001b[0m\u001b[0;34m\u001b[0m\u001b[0;34m\u001b[0m\u001b[0m\n\u001b[1;32m    599\u001b[0m     \u001b[0;32mif\u001b[0m \u001b[0mhasattr\u001b[0m\u001b[0;34m(\u001b[0m\u001b[0mmeta\u001b[0m\u001b[0;34m,\u001b[0m \u001b[0;34m'getheaders'\u001b[0m\u001b[0;34m)\u001b[0m\u001b[0;34m:\u001b[0m\u001b[0;34m\u001b[0m\u001b[0;34m\u001b[0m\u001b[0m\n",
      "\u001b[0;32m/opt/conda/lib/python3.7/urllib/request.py\u001b[0m in \u001b[0;36murlopen\u001b[0;34m(url, data, timeout, cafile, capath, cadefault, context)\u001b[0m\n\u001b[1;32m    220\u001b[0m     \u001b[0;32melse\u001b[0m\u001b[0;34m:\u001b[0m\u001b[0;34m\u001b[0m\u001b[0;34m\u001b[0m\u001b[0m\n\u001b[1;32m    221\u001b[0m         \u001b[0mopener\u001b[0m \u001b[0;34m=\u001b[0m \u001b[0m_opener\u001b[0m\u001b[0;34m\u001b[0m\u001b[0;34m\u001b[0m\u001b[0m\n\u001b[0;32m--> 222\u001b[0;31m     \u001b[0;32mreturn\u001b[0m \u001b[0mopener\u001b[0m\u001b[0;34m.\u001b[0m\u001b[0mopen\u001b[0m\u001b[0;34m(\u001b[0m\u001b[0murl\u001b[0m\u001b[0;34m,\u001b[0m \u001b[0mdata\u001b[0m\u001b[0;34m,\u001b[0m \u001b[0mtimeout\u001b[0m\u001b[0;34m)\u001b[0m\u001b[0;34m\u001b[0m\u001b[0;34m\u001b[0m\u001b[0m\n\u001b[0m\u001b[1;32m    223\u001b[0m \u001b[0;34m\u001b[0m\u001b[0m\n\u001b[1;32m    224\u001b[0m \u001b[0;32mdef\u001b[0m \u001b[0minstall_opener\u001b[0m\u001b[0;34m(\u001b[0m\u001b[0mopener\u001b[0m\u001b[0;34m)\u001b[0m\u001b[0;34m:\u001b[0m\u001b[0;34m\u001b[0m\u001b[0;34m\u001b[0m\u001b[0m\n",
      "\u001b[0;32m/opt/conda/lib/python3.7/urllib/request.py\u001b[0m in \u001b[0;36mopen\u001b[0;34m(self, fullurl, data, timeout)\u001b[0m\n\u001b[1;32m    523\u001b[0m             \u001b[0mreq\u001b[0m \u001b[0;34m=\u001b[0m \u001b[0mmeth\u001b[0m\u001b[0;34m(\u001b[0m\u001b[0mreq\u001b[0m\u001b[0;34m)\u001b[0m\u001b[0;34m\u001b[0m\u001b[0;34m\u001b[0m\u001b[0m\n\u001b[1;32m    524\u001b[0m \u001b[0;34m\u001b[0m\u001b[0m\n\u001b[0;32m--> 525\u001b[0;31m         \u001b[0mresponse\u001b[0m \u001b[0;34m=\u001b[0m \u001b[0mself\u001b[0m\u001b[0;34m.\u001b[0m\u001b[0m_open\u001b[0m\u001b[0;34m(\u001b[0m\u001b[0mreq\u001b[0m\u001b[0;34m,\u001b[0m \u001b[0mdata\u001b[0m\u001b[0;34m)\u001b[0m\u001b[0;34m\u001b[0m\u001b[0;34m\u001b[0m\u001b[0m\n\u001b[0m\u001b[1;32m    526\u001b[0m \u001b[0;34m\u001b[0m\u001b[0m\n\u001b[1;32m    527\u001b[0m         \u001b[0;31m# post-process response\u001b[0m\u001b[0;34m\u001b[0m\u001b[0;34m\u001b[0m\u001b[0;34m\u001b[0m\u001b[0m\n",
      "\u001b[0;32m/opt/conda/lib/python3.7/urllib/request.py\u001b[0m in \u001b[0;36m_open\u001b[0;34m(self, req, data)\u001b[0m\n\u001b[1;32m    541\u001b[0m         \u001b[0mprotocol\u001b[0m \u001b[0;34m=\u001b[0m \u001b[0mreq\u001b[0m\u001b[0;34m.\u001b[0m\u001b[0mtype\u001b[0m\u001b[0;34m\u001b[0m\u001b[0;34m\u001b[0m\u001b[0m\n\u001b[1;32m    542\u001b[0m         result = self._call_chain(self.handle_open, protocol, protocol +\n\u001b[0;32m--> 543\u001b[0;31m                                   '_open', req)\n\u001b[0m\u001b[1;32m    544\u001b[0m         \u001b[0;32mif\u001b[0m \u001b[0mresult\u001b[0m\u001b[0;34m:\u001b[0m\u001b[0;34m\u001b[0m\u001b[0;34m\u001b[0m\u001b[0m\n\u001b[1;32m    545\u001b[0m             \u001b[0;32mreturn\u001b[0m \u001b[0mresult\u001b[0m\u001b[0;34m\u001b[0m\u001b[0;34m\u001b[0m\u001b[0m\n",
      "\u001b[0;32m/opt/conda/lib/python3.7/urllib/request.py\u001b[0m in \u001b[0;36m_call_chain\u001b[0;34m(self, chain, kind, meth_name, *args)\u001b[0m\n\u001b[1;32m    501\u001b[0m         \u001b[0;32mfor\u001b[0m \u001b[0mhandler\u001b[0m \u001b[0;32min\u001b[0m \u001b[0mhandlers\u001b[0m\u001b[0;34m:\u001b[0m\u001b[0;34m\u001b[0m\u001b[0;34m\u001b[0m\u001b[0m\n\u001b[1;32m    502\u001b[0m             \u001b[0mfunc\u001b[0m \u001b[0;34m=\u001b[0m \u001b[0mgetattr\u001b[0m\u001b[0;34m(\u001b[0m\u001b[0mhandler\u001b[0m\u001b[0;34m,\u001b[0m \u001b[0mmeth_name\u001b[0m\u001b[0;34m)\u001b[0m\u001b[0;34m\u001b[0m\u001b[0;34m\u001b[0m\u001b[0m\n\u001b[0;32m--> 503\u001b[0;31m             \u001b[0mresult\u001b[0m \u001b[0;34m=\u001b[0m \u001b[0mfunc\u001b[0m\u001b[0;34m(\u001b[0m\u001b[0;34m*\u001b[0m\u001b[0margs\u001b[0m\u001b[0;34m)\u001b[0m\u001b[0;34m\u001b[0m\u001b[0;34m\u001b[0m\u001b[0m\n\u001b[0m\u001b[1;32m    504\u001b[0m             \u001b[0;32mif\u001b[0m \u001b[0mresult\u001b[0m \u001b[0;32mis\u001b[0m \u001b[0;32mnot\u001b[0m \u001b[0;32mNone\u001b[0m\u001b[0;34m:\u001b[0m\u001b[0;34m\u001b[0m\u001b[0;34m\u001b[0m\u001b[0m\n\u001b[1;32m    505\u001b[0m                 \u001b[0;32mreturn\u001b[0m \u001b[0mresult\u001b[0m\u001b[0;34m\u001b[0m\u001b[0;34m\u001b[0m\u001b[0m\n",
      "\u001b[0;32m/opt/conda/lib/python3.7/urllib/request.py\u001b[0m in \u001b[0;36mhttps_open\u001b[0;34m(self, req)\u001b[0m\n\u001b[1;32m   1391\u001b[0m         \u001b[0;32mdef\u001b[0m \u001b[0mhttps_open\u001b[0m\u001b[0;34m(\u001b[0m\u001b[0mself\u001b[0m\u001b[0;34m,\u001b[0m \u001b[0mreq\u001b[0m\u001b[0;34m)\u001b[0m\u001b[0;34m:\u001b[0m\u001b[0;34m\u001b[0m\u001b[0;34m\u001b[0m\u001b[0m\n\u001b[1;32m   1392\u001b[0m             return self.do_open(http.client.HTTPSConnection, req,\n\u001b[0;32m-> 1393\u001b[0;31m                 context=self._context, check_hostname=self._check_hostname)\n\u001b[0m\u001b[1;32m   1394\u001b[0m \u001b[0;34m\u001b[0m\u001b[0m\n\u001b[1;32m   1395\u001b[0m         \u001b[0mhttps_request\u001b[0m \u001b[0;34m=\u001b[0m \u001b[0mAbstractHTTPHandler\u001b[0m\u001b[0;34m.\u001b[0m\u001b[0mdo_request_\u001b[0m\u001b[0;34m\u001b[0m\u001b[0;34m\u001b[0m\u001b[0m\n",
      "\u001b[0;32m/opt/conda/lib/python3.7/urllib/request.py\u001b[0m in \u001b[0;36mdo_open\u001b[0;34m(self, http_class, req, **http_conn_args)\u001b[0m\n\u001b[1;32m   1350\u001b[0m                           encode_chunked=req.has_header('Transfer-encoding'))\n\u001b[1;32m   1351\u001b[0m             \u001b[0;32mexcept\u001b[0m \u001b[0mOSError\u001b[0m \u001b[0;32mas\u001b[0m \u001b[0merr\u001b[0m\u001b[0;34m:\u001b[0m \u001b[0;31m# timeout error\u001b[0m\u001b[0;34m\u001b[0m\u001b[0;34m\u001b[0m\u001b[0m\n\u001b[0;32m-> 1352\u001b[0;31m                 \u001b[0;32mraise\u001b[0m \u001b[0mURLError\u001b[0m\u001b[0;34m(\u001b[0m\u001b[0merr\u001b[0m\u001b[0;34m)\u001b[0m\u001b[0;34m\u001b[0m\u001b[0;34m\u001b[0m\u001b[0m\n\u001b[0m\u001b[1;32m   1353\u001b[0m             \u001b[0mr\u001b[0m \u001b[0;34m=\u001b[0m \u001b[0mh\u001b[0m\u001b[0;34m.\u001b[0m\u001b[0mgetresponse\u001b[0m\u001b[0;34m(\u001b[0m\u001b[0;34m)\u001b[0m\u001b[0;34m\u001b[0m\u001b[0;34m\u001b[0m\u001b[0m\n\u001b[1;32m   1354\u001b[0m         \u001b[0;32mexcept\u001b[0m\u001b[0;34m:\u001b[0m\u001b[0;34m\u001b[0m\u001b[0;34m\u001b[0m\u001b[0m\n",
      "\u001b[0;31mURLError\u001b[0m: <urlopen error [Errno 101] Network is unreachable>"
     ]
    }
   ],
   "source": [
    "pretrained_model = resnext50_32x4d(weights=ResNeXt50_32X4D_Weights.DEFAULT)"
   ]
  },
  {
   "cell_type": "code",
   "execution_count": null,
   "metadata": {
    "executionInfo": {
     "elapsed": 8,
     "status": "ok",
     "timestamp": 1681763989439,
     "user": {
      "displayName": "Ádám Váradi",
      "userId": "05519788549826843250"
     },
     "user_tz": -120
    },
    "id": "UjeJpamqwxUi"
   },
   "outputs": [],
   "source": [
    "#print(pretrained_model)"
   ]
  },
  {
   "cell_type": "code",
   "execution_count": null,
   "metadata": {
    "colab": {
     "base_uri": "https://localhost:8080/"
    },
    "executionInfo": {
     "elapsed": 460,
     "status": "ok",
     "timestamp": 1681763989893,
     "user": {
      "displayName": "Ádám Váradi",
      "userId": "05519788549826843250"
     },
     "user_tz": -120
    },
    "id": "zBv1-rWfxDwt",
    "outputId": "58f5e661-694a-4a2f-c547-12736477fd42"
   },
   "outputs": [],
   "source": [
    "# Quick check to make sure, that we downloaded the right model:\n",
    "summary(model = pretrained_model, input_size = (3, 128, 128), device = 'cpu')"
   ]
  },
  {
   "cell_type": "markdown",
   "metadata": {
    "id": "0FAYT4ZR2mBc"
   },
   "source": [
    "Guide how to freeze model parameters:\n",
    "\n",
    "https://androidkt.com/modify-pre-train-pytorch-model-for-finetuning-and-feature-extraction/"
   ]
  },
  {
   "cell_type": "code",
   "execution_count": null,
   "metadata": {
    "executionInfo": {
     "elapsed": 4,
     "status": "ok",
     "timestamp": 1681763989894,
     "user": {
      "displayName": "Ádám Váradi",
      "userId": "05519788549826843250"
     },
     "user_tz": -120
    },
    "id": "TQw4dDxL4qTn"
   },
   "outputs": [],
   "source": [
    "# Freeze convolutional layers\n",
    "for param in pretrained_model.parameters():\n",
    "    param.requires_grad = False\n",
    "\n",
    "# Modify the final dense layer\n",
    "num_classes = 10\n",
    "num_ftrs = pretrained_model.fc.in_features\n",
    "pretrained_model.fc = torch.nn.Linear(num_ftrs, num_classes)"
   ]
  },
  {
   "cell_type": "code",
   "execution_count": null,
   "metadata": {
    "colab": {
     "base_uri": "https://localhost:8080/"
    },
    "executionInfo": {
     "elapsed": 335,
     "status": "ok",
     "timestamp": 1681763990226,
     "user": {
      "displayName": "Ádám Váradi",
      "userId": "05519788549826843250"
     },
     "user_tz": -120
    },
    "id": "b8XYMKgp0AAG",
    "outputId": "a1ccff66-864d-4fa1-aa07-19ed8df77a0e"
   },
   "outputs": [],
   "source": [
    "# We want to make sure, that the final dense layer is indeed replaced:  Linear-174 [-1, 1000] ---> Linear-174 [-1, 10]\n",
    "summary(model = pretrained_model, input_size = (3, 128, 128), device = 'cpu')"
   ]
  },
  {
   "cell_type": "markdown",
   "metadata": {
    "id": "5Bd58bpXLYOL"
   },
   "source": [
    "## Tuning the final dense layer of the pretrained model"
   ]
  },
  {
   "cell_type": "code",
   "execution_count": null,
   "metadata": {
    "colab": {
     "base_uri": "https://localhost:8080/",
     "height": 1000
    },
    "executionInfo": {
     "elapsed": 169256,
     "status": "ok",
     "timestamp": 1681764159480,
     "user": {
      "displayName": "Ádám Váradi",
      "userId": "05519788549826843250"
     },
     "user_tz": -120
    },
    "id": "4eK8F6en5geK",
    "outputId": "a6e3ca6a-3778-4b89-f62f-bdc746701c07"
   },
   "outputs": [],
   "source": [
    "model = pretrained_model\n",
    "optimizer = optim.SGD(model.parameters(), lr = 0.1, momentum = 0.9)\n",
    "loss = nn.CrossEntropyLoss()\n",
    "\n",
    "resnext_pretrained_train_accs, resnext_pretrained_val_accs, resnext_pretrained_train_loss, resnext_pretrained_val_loss  = train(model, train_loader, val_loader, loss, optimizer, num_classes = 10, num_epochs = 10)"
   ]
  },
  {
   "cell_type": "markdown",
   "metadata": {
    "id": "VLXjPX7q9dDS"
   },
   "source": [
    "Surprising results: the pretrained model hardly learns. The accuracy stays almost unchanged throughout the training process."
   ]
  },
  {
   "cell_type": "markdown",
   "metadata": {
    "id": "QQRNp_tJOPxa"
   },
   "source": [
    "# Comparing the results obtained with the manually built vs. the pretrained model"
   ]
  },
  {
   "cell_type": "code",
   "execution_count": null,
   "metadata": {
    "colab": {
     "base_uri": "https://localhost:8080/",
     "height": 622
    },
    "executionInfo": {
     "elapsed": 599,
     "status": "ok",
     "timestamp": 1681764160071,
     "user": {
      "displayName": "Ádám Váradi",
      "userId": "05519788549826843250"
     },
     "user_tz": -120
    },
    "id": "ebbRFryeup1r",
    "outputId": "c47a98bc-997f-4143-9c27-cd64db3495c2"
   },
   "outputs": [],
   "source": [
    "fig, (ax1, ax2) = plt.subplots(1, 2, figsize=(16, 7))\n",
    "\n",
    "ax1.set_title('Validation accuracies')\n",
    "ax1.plot(resnext_manual_val_accs, label = 'ResNeXt-50 from scratch'), ax1.plot(resnext_pretrained_val_accs, label = 'ResNeXt-50 pretrained')\n",
    "ax1.grid()\n",
    "ax1.legend()\n",
    "\n",
    "ax2.set_title('Validation losses')\n",
    "ax2.plot(resnext_manual_val_loss, label = 'ResNeXt-50 from scratch'), ax2.plot(resnext_pretrained_val_loss , label = 'ResNeXt-50 pretrained')\n",
    "ax2.grid()\n",
    "ax2.legend()\n",
    "\n",
    "plt.show()"
   ]
  },
  {
   "cell_type": "markdown",
   "metadata": {
    "id": "b6viCkZr3sGS"
   },
   "source": [
    "**Conclusion:** It can be observed, that the pretrained model starts off with a better accuracy, however it hardly learns anything afterwards and it is quickly outperformed by the manually built model (better results already from the 3rd epoch).\n",
    "The main difference lies in the fact, that the pretrained model has almost all parameters frozen except for the last dense layer, meanwhile the model, which was built from scratch has all of its parameters tuned. Therefore, it would make sense to unfreeze the parameters of the pretrained model and do some finetuning on it.\n"
   ]
  }
 ],
 "metadata": {
  "accelerator": "GPU",
  "colab": {
   "authorship_tag": "ABX9TyNqmYMNJbBGnc/3o4MOAKKV",
   "provenance": [],
   "toc_visible": true
  },
  "environment": {
   "kernel": "python3",
   "name": "pytorch-gpu.1-13.m108",
   "type": "gcloud",
   "uri": "gcr.io/deeplearning-platform-release/pytorch-gpu.1-13:m108"
  },
  "gpuClass": "standard",
  "kernelspec": {
   "display_name": "Python 3",
   "language": "python",
   "name": "python3"
  },
  "language_info": {
   "codemirror_mode": {
    "name": "ipython",
    "version": 3
   },
   "file_extension": ".py",
   "mimetype": "text/x-python",
   "name": "python",
   "nbconvert_exporter": "python",
   "pygments_lexer": "ipython3",
   "version": "3.7.12"
  }
 },
 "nbformat": 4,
 "nbformat_minor": 4
}
